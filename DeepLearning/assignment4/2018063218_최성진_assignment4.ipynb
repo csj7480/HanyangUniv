{
 "cells": [
  {
   "cell_type": "code",
   "execution_count": 1,
   "id": "quick-isaac",
   "metadata": {},
   "outputs": [
    {
     "name": "stderr",
     "output_type": "stream",
     "text": [
      "c:\\programdata\\anaconda3\\envs\\deepclass\\lib\\site-packages\\tensorflow\\python\\framework\\dtypes.py:526: FutureWarning: Passing (type, 1) or '1type' as a synonym of type is deprecated; in a future version of numpy, it will be understood as (type, (1,)) / '(1,)type'.\n",
      "  _np_qint8 = np.dtype([(\"qint8\", np.int8, 1)])\n",
      "c:\\programdata\\anaconda3\\envs\\deepclass\\lib\\site-packages\\tensorflow\\python\\framework\\dtypes.py:527: FutureWarning: Passing (type, 1) or '1type' as a synonym of type is deprecated; in a future version of numpy, it will be understood as (type, (1,)) / '(1,)type'.\n",
      "  _np_quint8 = np.dtype([(\"quint8\", np.uint8, 1)])\n",
      "c:\\programdata\\anaconda3\\envs\\deepclass\\lib\\site-packages\\tensorflow\\python\\framework\\dtypes.py:528: FutureWarning: Passing (type, 1) or '1type' as a synonym of type is deprecated; in a future version of numpy, it will be understood as (type, (1,)) / '(1,)type'.\n",
      "  _np_qint16 = np.dtype([(\"qint16\", np.int16, 1)])\n",
      "c:\\programdata\\anaconda3\\envs\\deepclass\\lib\\site-packages\\tensorflow\\python\\framework\\dtypes.py:529: FutureWarning: Passing (type, 1) or '1type' as a synonym of type is deprecated; in a future version of numpy, it will be understood as (type, (1,)) / '(1,)type'.\n",
      "  _np_quint16 = np.dtype([(\"quint16\", np.uint16, 1)])\n",
      "c:\\programdata\\anaconda3\\envs\\deepclass\\lib\\site-packages\\tensorflow\\python\\framework\\dtypes.py:530: FutureWarning: Passing (type, 1) or '1type' as a synonym of type is deprecated; in a future version of numpy, it will be understood as (type, (1,)) / '(1,)type'.\n",
      "  _np_qint32 = np.dtype([(\"qint32\", np.int32, 1)])\n",
      "c:\\programdata\\anaconda3\\envs\\deepclass\\lib\\site-packages\\tensorflow\\python\\framework\\dtypes.py:535: FutureWarning: Passing (type, 1) or '1type' as a synonym of type is deprecated; in a future version of numpy, it will be understood as (type, (1,)) / '(1,)type'.\n",
      "  np_resource = np.dtype([(\"resource\", np.ubyte, 1)])\n"
     ]
    }
   ],
   "source": [
    "import tensorflow as tf\n",
    "import numpy as np"
   ]
  },
  {
   "cell_type": "code",
   "execution_count": 2,
   "id": "diverse-village",
   "metadata": {},
   "outputs": [],
   "source": [
    "tf.set_random_seed(777)"
   ]
  },
  {
   "cell_type": "code",
   "execution_count": 18,
   "id": "solid-marking",
   "metadata": {},
   "outputs": [],
   "source": [
    "tf.reset_default_graph()\n",
    "\n",
    "sample = \" if you want you\"\n",
    "idx2char = list(set(sample))\n",
    "char2idx = {c:i for i, c in enumerate(idx2char)}\n",
    "\n",
    "dic_size = len(char2idx)\n",
    "hidden_size = len(char2idx)\n",
    "num_classes = len(char2idx)\n",
    "batch_size = 1\n",
    "sequence_length = len(sample) -1\n",
    "learning_rate = 0.1\n",
    "\n",
    "## data\n",
    "sample_idx = [char2idx[c] for c in sample]\n",
    "x_data = [sample_idx[:-1]]\n",
    "y_data = [sample_idx[1:]]"
   ]
  },
  {
   "cell_type": "code",
   "execution_count": 19,
   "id": "assigned-ghost",
   "metadata": {},
   "outputs": [],
   "source": [
    "X= tf.placeholder(tf.int32,[None, sequence_length])\n",
    "Y= tf.placeholder(tf.int32,[None, sequence_length])\n",
    "\n",
    "x_one_hot = tf.one_hot(X,num_classes)\n",
    "cell = tf.contrib.rnn.BasicRNNCell(num_units=hidden_size)\n",
    "initial_state = cell.zero_state(batch_size, tf.float32)\n",
    "outputs, _states= tf.nn.dynamic_rnn(cell, x_one_hot, initial_state=initial_state,dtype=tf.float32)\n",
    "\n",
    "\n",
    "## FC layer\n",
    "x_for_fc = tf.reshape(outputs,[-1,hidden_size])\n",
    "outputs=tf.contrib.layers.fully_connected(x_for_fc, num_classes, activation_fn=None)\n",
    "\n",
    "outputs= tf.reshape(outputs,[batch_size, sequence_length, num_classes])\n",
    "\n",
    "weights= tf.ones([batch_size, sequence_length])\n",
    "sequence_loss = tf.contrib.seq2seq.sequence_loss(logits=outputs, targets=Y, weights=weights)\n",
    "loss = tf.reduce_mean(sequence_loss)\n",
    "train = tf.train.AdamOptimizer(learning_rate=learning_rate).minimize(loss)\n",
    "\n",
    "prediction = tf.argmax(outputs, axis=2)"
   ]
  },
  {
   "cell_type": "code",
   "execution_count": 16,
   "id": "hispanic-queens",
   "metadata": {
    "scrolled": true
   },
   "outputs": [
    {
     "name": "stdout",
     "output_type": "stream",
     "text": [
      "[[1, 9, 7, 1, 0, 5, 2, 1, 8, 3, 4, 6, 1, 0, 5]]\n",
      "[[9, 7, 1, 0, 5, 2, 1, 8, 3, 4, 6, 1, 0, 5, 2]]\n"
     ]
    }
   ],
   "source": [
    "print(x_data)\n",
    "print(y_data)"
   ]
  },
  {
   "cell_type": "code",
   "execution_count": 17,
   "id": "unknown-pledge",
   "metadata": {},
   "outputs": [
    {
     "name": "stdout",
     "output_type": "stream",
     "text": [
      "0 loss: 2.4510257 prediction:  o  o uwonf oou\n",
      "1 loss: 1.870876 prediction: yo oou  ono oou\n",
      "2 loss: 1.5343312 prediction: yo you want you\n",
      "3 loss: 1.1098434 prediction: yt you want you\n",
      "4 loss: 0.80043054 prediction: yt you want you\n",
      "5 loss: 0.5877751 prediction: yf you want you\n",
      "6 loss: 0.42788056 prediction: wf you want you\n",
      "7 loss: 0.30461708 prediction: wf you want you\n",
      "8 loss: 0.2161472 prediction: if you want you\n",
      "9 loss: 0.15731873 prediction: if you want you\n",
      "10 loss: 0.11884625 prediction: if you want you\n",
      "11 loss: 0.09018978 prediction: if you want you\n",
      "12 loss: 0.06565825 prediction: if you want you\n",
      "13 loss: 0.047286544 prediction: if you want you\n",
      "14 loss: 0.03506008 prediction: if you want you\n",
      "15 loss: 0.026738506 prediction: if you want you\n",
      "16 loss: 0.020850763 prediction: if you want you\n",
      "17 loss: 0.016546417 prediction: if you want you\n",
      "18 loss: 0.013328511 prediction: if you want you\n",
      "19 loss: 0.0108890915 prediction: if you want you\n",
      "20 loss: 0.009022992 prediction: if you want you\n",
      "21 loss: 0.007584704 prediction: if you want you\n",
      "22 loss: 0.006468249 prediction: if you want you\n",
      "23 loss: 0.0055946326 prediction: if you want you\n",
      "24 loss: 0.00490471 prediction: if you want you\n",
      "25 loss: 0.004353999 prediction: if you want you\n",
      "26 loss: 0.003908833 prediction: if you want you\n",
      "27 loss: 0.0035439765 prediction: if you want you\n",
      "28 loss: 0.0032407385 prediction: if you want you\n",
      "29 loss: 0.0029850595 prediction: if you want you\n",
      "30 loss: 0.0027666173 prediction: if you want you\n",
      "31 loss: 0.0025777249 prediction: if you want you\n",
      "32 loss: 0.00241276 prediction: if you want you\n",
      "33 loss: 0.0022673772 prediction: if you want you\n",
      "34 loss: 0.0021384049 prediction: if you want you\n",
      "35 loss: 0.0020232978 prediction: if you want you\n",
      "36 loss: 0.0019201892 prediction: if you want you\n",
      "37 loss: 0.001827431 prediction: if you want you\n",
      "38 loss: 0.0017436832 prediction: if you want you\n",
      "39 loss: 0.0016679679 prediction: if you want you\n",
      "40 loss: 0.0015992192 prediction: if you want you\n",
      "41 loss: 0.0015367431 prediction: if you want you\n",
      "42 loss: 0.0014798607 prediction: if you want you\n",
      "43 loss: 0.0014279082 prediction: if you want you\n",
      "44 loss: 0.0013803245 prediction: if you want you\n",
      "45 loss: 0.0013366909 prediction: if you want you\n",
      "46 loss: 0.0012965881 prediction: if you want you\n",
      "47 loss: 0.0012596446 prediction: if you want you\n",
      "48 loss: 0.0012255679 prediction: if you want you\n",
      "49 loss: 0.0011940653 prediction: if you want you\n"
     ]
    }
   ],
   "source": [
    "with tf.Session() as sess:\n",
    "    sess.run(tf.global_variables_initializer())\n",
    "    for i in range(50):\n",
    "        l, _ = sess.run([loss,train],feed_dict = {X:x_data, Y:y_data})\n",
    "        result = sess.run(prediction, feed_dict = {X:x_data})\n",
    "        \n",
    "        result_str= [idx2char[c] for c in np.squeeze(result)]\n",
    "        \n",
    "        print(i, \"loss:\", l, \"prediction:\",\"\".join(result_str))"
   ]
  },
  {
   "cell_type": "code",
   "execution_count": null,
   "id": "electoral-wrist",
   "metadata": {},
   "outputs": [],
   "source": []
  }
 ],
 "metadata": {
  "kernelspec": {
   "display_name": "Python 3",
   "language": "python",
   "name": "python3"
  },
  "language_info": {
   "codemirror_mode": {
    "name": "ipython",
    "version": 3
   },
   "file_extension": ".py",
   "mimetype": "text/x-python",
   "name": "python",
   "nbconvert_exporter": "python",
   "pygments_lexer": "ipython3",
   "version": "3.7.10"
  }
 },
 "nbformat": 4,
 "nbformat_minor": 5
}
