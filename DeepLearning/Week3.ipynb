{
 "cells": [
  {
   "cell_type": "code",
   "execution_count": 1,
   "id": "endangered-supplier",
   "metadata": {},
   "outputs": [
    {
     "name": "stderr",
     "output_type": "stream",
     "text": [
      "c:\\programdata\\anaconda3\\envs\\deepclass\\lib\\site-packages\\tensorflow\\python\\framework\\dtypes.py:526: FutureWarning: Passing (type, 1) or '1type' as a synonym of type is deprecated; in a future version of numpy, it will be understood as (type, (1,)) / '(1,)type'.\n",
      "  _np_qint8 = np.dtype([(\"qint8\", np.int8, 1)])\n",
      "c:\\programdata\\anaconda3\\envs\\deepclass\\lib\\site-packages\\tensorflow\\python\\framework\\dtypes.py:527: FutureWarning: Passing (type, 1) or '1type' as a synonym of type is deprecated; in a future version of numpy, it will be understood as (type, (1,)) / '(1,)type'.\n",
      "  _np_quint8 = np.dtype([(\"quint8\", np.uint8, 1)])\n",
      "c:\\programdata\\anaconda3\\envs\\deepclass\\lib\\site-packages\\tensorflow\\python\\framework\\dtypes.py:528: FutureWarning: Passing (type, 1) or '1type' as a synonym of type is deprecated; in a future version of numpy, it will be understood as (type, (1,)) / '(1,)type'.\n",
      "  _np_qint16 = np.dtype([(\"qint16\", np.int16, 1)])\n",
      "c:\\programdata\\anaconda3\\envs\\deepclass\\lib\\site-packages\\tensorflow\\python\\framework\\dtypes.py:529: FutureWarning: Passing (type, 1) or '1type' as a synonym of type is deprecated; in a future version of numpy, it will be understood as (type, (1,)) / '(1,)type'.\n",
      "  _np_quint16 = np.dtype([(\"quint16\", np.uint16, 1)])\n",
      "c:\\programdata\\anaconda3\\envs\\deepclass\\lib\\site-packages\\tensorflow\\python\\framework\\dtypes.py:530: FutureWarning: Passing (type, 1) or '1type' as a synonym of type is deprecated; in a future version of numpy, it will be understood as (type, (1,)) / '(1,)type'.\n",
      "  _np_qint32 = np.dtype([(\"qint32\", np.int32, 1)])\n",
      "c:\\programdata\\anaconda3\\envs\\deepclass\\lib\\site-packages\\tensorflow\\python\\framework\\dtypes.py:535: FutureWarning: Passing (type, 1) or '1type' as a synonym of type is deprecated; in a future version of numpy, it will be understood as (type, (1,)) / '(1,)type'.\n",
      "  np_resource = np.dtype([(\"resource\", np.ubyte, 1)])\n"
     ]
    }
   ],
   "source": [
    "import tensorflow as tf\n",
    "import numpy as np"
   ]
  },
  {
   "cell_type": "code",
   "execution_count": 3,
   "id": "dynamic-outline",
   "metadata": {},
   "outputs": [],
   "source": [
    "x = [[0,0],[0,1],[1,0],[1,1]]\n",
    "y = [[1,0],[0,1],[0,1],[1,0]]\n",
    "\n",
    "\n",
    "X = tf.placeholder(tf.float32, [None,2])\n",
    "Y = tf.placeholder(tf.float32, [None,2])\n",
    "\n",
    "W1 = tf.Variable(tf.random_uniform([2,3],-1.0,1.0))\n",
    "b1 = tf.Variable(tf.random_uniform([3],-1.0,1.0))\n",
    "L1= tf.sigmoid(tf.matmul(X,W1)+b1)\n",
    "\n",
    "W2 = tf.Variable(tf.random_uniform([3,2],-1.0,1.0))\n",
    "b2 = tf.Variable(tf.random_uniform([2],-1.0,1.0))\n",
    "logits = tf.matmul(L1,W2) +b2\n",
    "output_softmax = tf.nn.softmax(logits)\n",
    "output_argmax = tf.argmax(logits,1)\n",
    "\n",
    "cost = tf.reduce_mean(tf.nn.softmax_cross_entropy_with_logits_v2(labels=Y, logits = logits))\n",
    "\n",
    "opt = tf.train.GradientDescentOptimizer(learning_rate=1)\n",
    "train_op = opt.minimize(cost)"
   ]
  },
  {
   "cell_type": "code",
   "execution_count": 5,
   "id": "magnetic-simon",
   "metadata": {},
   "outputs": [
    {
     "name": "stdout",
     "output_type": "stream",
     "text": [
      "0 0.69642365\n",
      "100 0.69186884\n",
      "200 0.6771122\n",
      "300 0.5439576\n",
      "400 0.15768996\n",
      "500 0.047869027\n",
      "600 0.02552696\n",
      "700 0.01699369\n",
      "800 0.012619549\n",
      "900 0.009990849\n",
      "1000 0.008247166\n",
      "1100 0.007010301\n",
      "1200 0.006089412\n",
      "1300 0.005378227\n",
      "1400 0.0048130406\n",
      "1500 0.00435349\n",
      "1600 0.003972681\n",
      "1700 0.0036521526\n",
      "1800 0.003378742\n",
      "1900 0.0031429084\n",
      "2000 0.002937381\n",
      "2100 0.0027567476\n",
      "2200 0.0025967779\n",
      "2300 0.002454097\n",
      "2400 0.002326099\n",
      "2500 0.002210652\n",
      "2600 0.0021059772\n",
      "2700 0.0020106523\n",
      "2800 0.0019234619\n",
      "2900 0.0018434869\n",
      "3000 0.0017698375\n",
      "3100 0.0017017717\n",
      "3200 0.0016386965\n",
      "3300 0.0015800477\n",
      "3400 0.0015254697\n",
      "3500 0.0014744869\n",
      "3600 0.0014267435\n",
      "3700 0.0013819721\n",
      "3800 0.0013399352\n",
      "3900 0.0013002765\n",
      "4000 0.0012629661\n",
      "4100 0.0012277071\n",
      "4200 0.0011942915\n",
      "4300 0.0011626598\n",
      "4400 0.0011326637\n",
      "4500 0.0011041246\n",
      "4600 0.0010770428\n",
      "4700 0.0010512101\n",
      "4800 0.0010265966\n",
      "4900 0.0010030541\n",
      "5000 0.0009805822\n",
      "5100 0.000959092\n",
      "5200 0.0009384942\n",
      "5300 0.00091878884\n",
      "5400 0.0008998867\n",
      "5500 0.00088172837\n",
      "5600 0.0008642542\n",
      "5700 0.00084749423\n",
      "5800 0.00083135895\n",
      "5900 0.0008158486\n",
      "6000 0.00080087385\n",
      "6100 0.0007864048\n",
      "6200 0.00077247154\n",
      "6300 0.00075904414\n",
      "6400 0.00074606296\n",
      "6500 0.0007334688\n",
      "6600 0.0007213508\n",
      "6700 0.0007096196\n",
      "6800 0.0006982158\n",
      "6900 0.0006871989\n",
      "7000 0.00067653914\n",
      "7100 0.0006661771\n",
      "7200 0.00065611256\n",
      "7300 0.00064637547\n",
      "7400 0.0006369361\n",
      "7500 0.000627705\n",
      "7600 0.0006187716\n",
      "7700 0.0006101061\n",
      "7800 0.0006016787\n",
      "7900 0.0005934299\n",
      "predict :  [[ 4.7353997 -4.492322 ]\n",
      " [-3.6121745  3.718233 ]\n",
      " [-3.0961175  4.389065 ]\n",
      " [ 3.8920808 -2.988258 ]]\n",
      "predict with softmax : [[9.9990177e-01 9.8267185e-05]\n",
      " [6.5487722e-04 9.9934512e-01]\n",
      " [5.6102587e-04 9.9943894e-01]\n",
      " [9.9897325e-01 1.0267406e-03]]\n",
      "predict with argmax   [0 1 1 0]\n"
     ]
    }
   ],
   "source": [
    "with tf.Session() as sess:\n",
    "    sess.run(tf.global_variables_initializer())\n",
    "    \n",
    "    for step in range(8000):\n",
    "        _,cost_val=sess.run([train_op,cost],feed_dict={X:x,Y:y})\n",
    "        \n",
    "        if step % 100 == 0:\n",
    "            print(step,cost_val)\n",
    "        \n",
    "    print(\"predict : \", sess.run(logits,feed_dict = {X:x}))\n",
    "    print(\"predict with softmax :\", sess.run(output_softmax, feed_dict={X:x}))\n",
    "    print(\"predict with argmax  \", sess.run(output_argmax,feed_dict ={X:x}))"
   ]
  },
  {
   "cell_type": "code",
   "execution_count": 6,
   "id": "suburban-happening",
   "metadata": {},
   "outputs": [
    {
     "ename": "NameError",
     "evalue": "name 'model' is not defined",
     "output_type": "error",
     "traceback": [
      "\u001b[1;31m---------------------------------------------------------------------------\u001b[0m",
      "\u001b[1;31mNameError\u001b[0m                                 Traceback (most recent call last)",
      "\u001b[1;32m<ipython-input-6-360b079d2a8c>\u001b[0m in \u001b[0;36m<module>\u001b[1;34m\u001b[0m\n\u001b[1;32m----> 1\u001b[1;33m \u001b[0mis_correct\u001b[0m \u001b[1;33m=\u001b[0m \u001b[0mtf\u001b[0m\u001b[1;33m.\u001b[0m\u001b[0mequal\u001b[0m\u001b[1;33m(\u001b[0m\u001b[0mtf\u001b[0m\u001b[1;33m.\u001b[0m\u001b[0margmax\u001b[0m\u001b[1;33m(\u001b[0m\u001b[0mmodel\u001b[0m\u001b[1;33m,\u001b[0m\u001b[1;36m1\u001b[0m\u001b[1;33m)\u001b[0m\u001b[1;33m,\u001b[0m\u001b[0mtf\u001b[0m\u001b[1;33m.\u001b[0m\u001b[0mmath\u001b[0m\u001b[1;33m.\u001b[0m\u001b[0margmax\u001b[0m\u001b[1;33m(\u001b[0m\u001b[0mY\u001b[0m\u001b[1;33m,\u001b[0m\u001b[1;36m1\u001b[0m\u001b[1;33m)\u001b[0m\u001b[1;33m)\u001b[0m\u001b[1;33m\u001b[0m\u001b[1;33m\u001b[0m\u001b[0m\n\u001b[0m",
      "\u001b[1;31mNameError\u001b[0m: name 'model' is not defined"
     ]
    }
   ],
   "source": [
    "is_correct = tf.equal(tf.argmax(model,1),tf.math.argmax(Y,1))"
   ]
  },
  {
   "cell_type": "code",
   "execution_count": null,
   "id": "mineral-continent",
   "metadata": {},
   "outputs": [],
   "source": []
  }
 ],
 "metadata": {
  "kernelspec": {
   "display_name": "Python 3",
   "language": "python",
   "name": "python3"
  },
  "language_info": {
   "codemirror_mode": {
    "name": "ipython",
    "version": 3
   },
   "file_extension": ".py",
   "mimetype": "text/x-python",
   "name": "python",
   "nbconvert_exporter": "python",
   "pygments_lexer": "ipython3",
   "version": "3.7.10"
  }
 },
 "nbformat": 4,
 "nbformat_minor": 5
}
